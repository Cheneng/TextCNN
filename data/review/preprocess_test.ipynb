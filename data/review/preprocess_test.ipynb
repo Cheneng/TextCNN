{
 "cells": [
  {
   "cell_type": "code",
   "execution_count": 2,
   "metadata": {
    "collapsed": true
   },
   "outputs": [],
   "source": [
    "import pandas as pd\n",
    "import numpy as np\n",
    "import pickle\n",
    "import string"
   ]
  },
  {
   "cell_type": "code",
   "execution_count": 3,
   "metadata": {},
   "outputs": [
    {
     "data": {
      "text/html": [
       "<div>\n",
       "<style>\n",
       "    .dataframe thead tr:only-child th {\n",
       "        text-align: right;\n",
       "    }\n",
       "\n",
       "    .dataframe thead th {\n",
       "        text-align: left;\n",
       "    }\n",
       "\n",
       "    .dataframe tbody tr th {\n",
       "        vertical-align: top;\n",
       "    }\n",
       "</style>\n",
       "<table border=\"1\" class=\"dataframe\">\n",
       "  <thead>\n",
       "    <tr style=\"text-align: right;\">\n",
       "      <th></th>\n",
       "      <th>id</th>\n",
       "      <th>comment_text</th>\n",
       "    </tr>\n",
       "  </thead>\n",
       "  <tbody>\n",
       "    <tr>\n",
       "      <th>0</th>\n",
       "      <td>00001cee341fdb12</td>\n",
       "      <td>Yo bitch Ja Rule is more succesful then you'll...</td>\n",
       "    </tr>\n",
       "    <tr>\n",
       "      <th>1</th>\n",
       "      <td>0000247867823ef7</td>\n",
       "      <td>== From RfC == \\n\\n The title is fine as it is...</td>\n",
       "    </tr>\n",
       "    <tr>\n",
       "      <th>2</th>\n",
       "      <td>00013b17ad220c46</td>\n",
       "      <td>\" \\n\\n == Sources == \\n\\n * Zawe Ashton on Lap...</td>\n",
       "    </tr>\n",
       "    <tr>\n",
       "      <th>3</th>\n",
       "      <td>00017563c3f7919a</td>\n",
       "      <td>:If you have a look back at the source, the in...</td>\n",
       "    </tr>\n",
       "    <tr>\n",
       "      <th>4</th>\n",
       "      <td>00017695ad8997eb</td>\n",
       "      <td>I don't anonymously edit articles at all.</td>\n",
       "    </tr>\n",
       "  </tbody>\n",
       "</table>\n",
       "</div>"
      ],
      "text/plain": [
       "                 id                                       comment_text\n",
       "0  00001cee341fdb12  Yo bitch Ja Rule is more succesful then you'll...\n",
       "1  0000247867823ef7  == From RfC == \\n\\n The title is fine as it is...\n",
       "2  00013b17ad220c46  \" \\n\\n == Sources == \\n\\n * Zawe Ashton on Lap...\n",
       "3  00017563c3f7919a  :If you have a look back at the source, the in...\n",
       "4  00017695ad8997eb          I don't anonymously edit articles at all."
      ]
     },
     "execution_count": 3,
     "metadata": {},
     "output_type": "execute_result"
    }
   ],
   "source": [
    "test_file = 'test.csv'\n",
    "test = pd.read_csv(test_file)\n",
    "test.head(5)"
   ]
  },
  {
   "cell_type": "code",
   "execution_count": 5,
   "metadata": {},
   "outputs": [
    {
     "data": {
      "text/html": [
       "<div>\n",
       "<style>\n",
       "    .dataframe thead tr:only-child th {\n",
       "        text-align: right;\n",
       "    }\n",
       "\n",
       "    .dataframe thead th {\n",
       "        text-align: left;\n",
       "    }\n",
       "\n",
       "    .dataframe tbody tr th {\n",
       "        vertical-align: top;\n",
       "    }\n",
       "</style>\n",
       "<table border=\"1\" class=\"dataframe\">\n",
       "  <thead>\n",
       "    <tr style=\"text-align: right;\">\n",
       "      <th></th>\n",
       "      <th>comment_text</th>\n",
       "    </tr>\n",
       "  </thead>\n",
       "  <tbody>\n",
       "    <tr>\n",
       "      <th>0</th>\n",
       "      <td>Yo bitch Ja Rule is more succesful then you'll...</td>\n",
       "    </tr>\n",
       "    <tr>\n",
       "      <th>1</th>\n",
       "      <td>== From RfC == \\n\\n The title is fine as it is...</td>\n",
       "    </tr>\n",
       "    <tr>\n",
       "      <th>2</th>\n",
       "      <td>\" \\n\\n == Sources == \\n\\n * Zawe Ashton on Lap...</td>\n",
       "    </tr>\n",
       "    <tr>\n",
       "      <th>3</th>\n",
       "      <td>:If you have a look back at the source, the in...</td>\n",
       "    </tr>\n",
       "    <tr>\n",
       "      <th>4</th>\n",
       "      <td>I don't anonymously edit articles at all.</td>\n",
       "    </tr>\n",
       "  </tbody>\n",
       "</table>\n",
       "</div>"
      ],
      "text/plain": [
       "                                        comment_text\n",
       "0  Yo bitch Ja Rule is more succesful then you'll...\n",
       "1  == From RfC == \\n\\n The title is fine as it is...\n",
       "2  \" \\n\\n == Sources == \\n\\n * Zawe Ashton on Lap...\n",
       "3  :If you have a look back at the source, the in...\n",
       "4          I don't anonymously edit articles at all."
      ]
     },
     "execution_count": 5,
     "metadata": {},
     "output_type": "execute_result"
    }
   ],
   "source": [
    "comments = pd.read_csv(test_file, usecols=(1,))\n",
    "comments.head()"
   ]
  },
  {
   "cell_type": "code",
   "execution_count": 6,
   "metadata": {},
   "outputs": [
    {
     "data": {
      "text/plain": [
       "153164"
      ]
     },
     "execution_count": 6,
     "metadata": {},
     "output_type": "execute_result"
    }
   ],
   "source": [
    "# 获取评论到一个list中去\n",
    "comments_list = []\n",
    "for i in comments.comment_text:\n",
    "    comments_list.append(i)\n",
    "\n",
    "len(comments_list)"
   ]
  },
  {
   "cell_type": "code",
   "execution_count": 7,
   "metadata": {
    "collapsed": true
   },
   "outputs": [],
   "source": [
    "comments_list_new = comments_list\n",
    "\n",
    "for i, comments in enumerate(comments_list):\n",
    "    # 删除句子中的标点符号\n",
    "    for j in string.punctuation:\n",
    "        comments_list_new[i] = comments_list_new[i].replace(j, '')\n",
    "    # 删除换行符号\n",
    "    comments_list_new[i] = comments_list_new[i].replace('\\n', ' ')\n",
    "    comments_list_new[i] = comments_list_new[i].lower()\n"
   ]
  },
  {
   "cell_type": "code",
   "execution_count": 8,
   "metadata": {},
   "outputs": [
    {
     "data": {
      "text/plain": [
       "['yo bitch ja rule is more succesful then youll ever be whats up with you and hating you sad mofuckasi should bitch slap ur pethedic white faces and get you to kiss my ass you guys sicken me ja rule is about pride in da music man dont diss that shit on him and nothin is wrong bein like tupac he was a brother toofuckin white boys get things right next time',\n",
       " ' from rfc     the title is fine as it is imo',\n",
       " '     sources      zawe ashton on lapland —    ']"
      ]
     },
     "execution_count": 8,
     "metadata": {},
     "output_type": "execute_result"
    }
   ],
   "source": [
    "comments_list_new[0:3]"
   ]
  },
  {
   "cell_type": "code",
   "execution_count": 9,
   "metadata": {},
   "outputs": [
    {
     "data": {
      "text/plain": [
       "[['yo',\n",
       "  'bitch',\n",
       "  'ja',\n",
       "  'rule',\n",
       "  'is',\n",
       "  'more',\n",
       "  'succesful',\n",
       "  'then',\n",
       "  'youll',\n",
       "  'ever',\n",
       "  'be',\n",
       "  'whats',\n",
       "  'up',\n",
       "  'with',\n",
       "  'you',\n",
       "  'and',\n",
       "  'hating',\n",
       "  'you',\n",
       "  'sad',\n",
       "  'mofuckasi',\n",
       "  'should',\n",
       "  'bitch',\n",
       "  'slap',\n",
       "  'ur',\n",
       "  'pethedic',\n",
       "  'white',\n",
       "  'faces',\n",
       "  'and',\n",
       "  'get',\n",
       "  'you',\n",
       "  'to',\n",
       "  'kiss',\n",
       "  'my',\n",
       "  'ass',\n",
       "  'you',\n",
       "  'guys',\n",
       "  'sicken',\n",
       "  'me',\n",
       "  'ja',\n",
       "  'rule',\n",
       "  'is',\n",
       "  'about',\n",
       "  'pride',\n",
       "  'in',\n",
       "  'da',\n",
       "  'music',\n",
       "  'man',\n",
       "  'dont',\n",
       "  'diss',\n",
       "  'that',\n",
       "  'shit',\n",
       "  'on',\n",
       "  'him',\n",
       "  'and',\n",
       "  'nothin',\n",
       "  'is',\n",
       "  'wrong',\n",
       "  'bein',\n",
       "  'like',\n",
       "  'tupac',\n",
       "  'he',\n",
       "  'was',\n",
       "  'a',\n",
       "  'brother',\n",
       "  'toofuckin',\n",
       "  'white',\n",
       "  'boys',\n",
       "  'get',\n",
       "  'things',\n",
       "  'right',\n",
       "  'next',\n",
       "  'time'],\n",
       " ['from', 'rfc', 'the', 'title', 'is', 'fine', 'as', 'it', 'is', 'imo'],\n",
       " ['sources', 'zawe', 'ashton', 'on', 'lapland', '—']]"
      ]
     },
     "execution_count": 9,
     "metadata": {},
     "output_type": "execute_result"
    }
   ],
   "source": [
    "comments_splits = []\n",
    "\n",
    "# 将单词分成list\n",
    "for sentence in comments_list_new:\n",
    "    temp = sentence.split(' ')\n",
    "    while '' in temp:\n",
    "        temp.remove('')\n",
    "    comments_splits.append(temp)\n",
    "    \n",
    "comments_splits[0:3]"
   ]
  },
  {
   "cell_type": "code",
   "execution_count": 10,
   "metadata": {
    "scrolled": true
   },
   "outputs": [
    {
     "name": "stdout",
     "output_type": "stream",
     "text": [
      "The number of the comments is: 153164\n"
     ]
    }
   ],
   "source": [
    "print('The number of the comments is:', len(comments_splits)) "
   ]
  },
  {
   "cell_type": "code",
   "execution_count": 11,
   "metadata": {
    "collapsed": true
   },
   "outputs": [],
   "source": [
    "# 分别保存\n",
    "with open('processed_data/test_split_list.pkl', 'wb') as f:\n",
    "    pickle.dump(comments_splits, f)"
   ]
  },
  {
   "cell_type": "code",
   "execution_count": 12,
   "metadata": {},
   "outputs": [
    {
     "name": "stdout",
     "output_type": "stream",
     "text": [
      "labels_array.pkl      test_split_list.pkl   train_split_list.pkl\r\n"
     ]
    }
   ],
   "source": [
    "ls processed_data/"
   ]
  },
  {
   "cell_type": "code",
   "execution_count": null,
   "metadata": {
    "collapsed": true
   },
   "outputs": [],
   "source": []
  }
 ],
 "metadata": {
  "kernelspec": {
   "display_name": "Python 3",
   "language": "python",
   "name": "python3"
  },
  "language_info": {
   "codemirror_mode": {
    "name": "ipython",
    "version": 3
   },
   "file_extension": ".py",
   "mimetype": "text/x-python",
   "name": "python",
   "nbconvert_exporter": "python",
   "pygments_lexer": "ipython3",
   "version": "3.6.1"
  }
 },
 "nbformat": 4,
 "nbformat_minor": 2
}
